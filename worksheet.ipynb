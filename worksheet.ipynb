{
 "cells": [
  {
   "cell_type": "markdown",
   "metadata": {},
   "source": [
    "### Requests"
   ]
  },
  {
   "cell_type": "code",
   "execution_count": null,
   "metadata": {},
   "outputs": [],
   "source": [
    "import ...\n",
    "\n",
    "response = requests....('https://xkcd.com/869')\n",
    "response"
   ]
  },
  {
   "cell_type": "code",
   "execution_count": null,
   "metadata": {},
   "outputs": [],
   "source": [
    "from bs4 import BeautifulSoup\n",
    "\n",
    "doc = BeautifulSoup(..., 'lxml')\n",
    "print('\\n'.join(\n",
    "    doc.prettify().splitlines()[0:10]\n",
    "    ))"
   ]
  },
  {
   "cell_type": "code",
   "execution_count": null,
   "metadata": {},
   "outputs": [],
   "source": [
    "img = doc.select_one(...)\n",
    "img['title']"
   ]
  },
  {
   "cell_type": "markdown",
   "metadata": {},
   "source": [
    "### HTML Table"
   ]
  },
  {
   "cell_type": "code",
   "execution_count": null,
   "metadata": {},
   "outputs": [],
   "source": [
    "import ... as ...\n",
    "\n",
    "vars = (\n",
    "    pd\n",
    "    ...('https://api.census.gov/data/2017/acs/acs5/variables.html')\n",
    "    .pop()\n",
    ")\n",
    "vars.head()"
   ]
  },
  {
   "cell_type": "code",
   "execution_count": null,
   "metadata": {},
   "outputs": [],
   "source": [
    "idx = (\n",
    "    ...['Label']\n",
    "    .str\n",
    "    .contains(...)\n",
    ")\n",
    "vars.loc[idx, ['Name', 'Label']]"
   ]
  },
  {
   "cell_type": "markdown",
   "metadata": {},
   "source": [
    "### Web Services"
   ]
  },
  {
   "cell_type": "code",
   "execution_count": null,
   "metadata": {},
   "outputs": [],
   "source": [
    "path = 'https://api.census.gov/data/2017/acs/acs5'\n",
    "query = {\n",
    "  'get': 'NAME,...',\n",
    "  'for': 'tract:*',\n",
    "  'in': 'state:24',\n",
    "}\n",
    "response = requests.get(..., ...)\n",
    "response"
   ]
  },
  {
   "cell_type": "code",
   "execution_count": null,
   "metadata": {},
   "outputs": [],
   "source": [
    "response....['Content-Type']"
   ]
  },
  {
   "cell_type": "code",
   "execution_count": null,
   "metadata": {},
   "outputs": [],
   "source": [
    "data = pd....(...)\n",
    "data"
   ]
  },
  {
   "cell_type": "markdown",
   "metadata": {},
   "source": [
    "### Specialized Packages"
   ]
  },
  {
   "cell_type": "code",
   "execution_count": null,
   "metadata": {},
   "outputs": [],
   "source": [
    "from census import Census\n",
    "\n",
    "key = ...\n",
    "c = Census(key, ...)\n",
    "c.acs5"
   ]
  },
  {
   "cell_type": "code",
   "execution_count": null,
   "metadata": {},
   "outputs": [],
   "source": [
    "variables = ('NAME', 'B19013_001E')"
   ]
  },
  {
   "cell_type": "code",
   "execution_count": null,
   "metadata": {},
   "outputs": [],
   "source": [
    "response = c.acs5.state_county_tract(\n",
    "    variables,\n",
    "    state_fips=...,\n",
    "    county_fips=...,\n",
    "    tract=Census.ALL,\n",
    ")\n",
    "response[0]"
   ]
  },
  {
   "cell_type": "code",
   "execution_count": null,
   "metadata": {},
   "outputs": [],
   "source": [
    "df = (\n",
    "    pd\n",
    "    .DataFrame(response)\n",
    "    .query(\"B19013_001E >= 0\")\n",
    ")"
   ]
  },
  {
   "cell_type": "code",
   "execution_count": null,
   "metadata": {},
   "outputs": [],
   "source": [
    "import seaborn as sns\n",
    "\n",
    "sns.boxplot(\n",
    "  data = df,\n",
    "  x = 'county',\n",
    "  y = 'B19013_001E',\n",
    ")"
   ]
  },
  {
   "cell_type": "markdown",
   "metadata": {},
   "source": [
    "### Paging & Stashing"
   ]
  },
  {
   "cell_type": "code",
   "execution_count": null,
   "metadata": {},
   "outputs": [],
   "source": [
    "import requests\n",
    "from api_key import API_KEY\n",
    "\n",
    "api = 'https://api.nal.usda.gov/fdc/v1/'\n",
    "path = ...\n",
    "query = {\n",
    "    'api_key':API_KEY,\n",
    "    'query':...\n",
    "}\n",
    "response = (\n",
    "    requests\n",
    "    .get(..., params=query)\n",
    ")"
   ]
  },
  {
   "cell_type": "code",
   "execution_count": null,
   "metadata": {},
   "outputs": [],
   "source": [
    "doc = response....()\n",
    "doc['totalHits']"
   ]
  },
  {
   "cell_type": "code",
   "execution_count": null,
   "metadata": {},
   "outputs": [],
   "source": [
    "len(doc['foods'])"
   ]
  },
  {
   "cell_type": "code",
   "execution_count": null,
   "metadata": {},
   "outputs": [],
   "source": [
    "from schema import Session, Food\n",
    "\n",
    "... = Session()\n",
    "... = session.bind"
   ]
  },
  {
   "cell_type": "code",
   "execution_count": null,
   "metadata": {},
   "outputs": [],
   "source": [
    "query['rpp'] = ..."
   ]
  },
  {
   "cell_type": "code",
   "execution_count": null,
   "metadata": {},
   "outputs": [],
   "source": [
    "table = Food.metadata.tables['food']\n",
    "for i in range(0, 15):\n",
    "    \n",
    "    # advance page and query\n",
    "    query['pageNumber'] = ...\n",
    "    response = requests.get(api + path, params=query)\n",
    "    page = response.json()\n",
    "    fruits = page['foods']\n",
    "    \n",
    "    # save page with session engine\n",
    "    values = [{'name': fruit['description'],\n",
    "               'sugar': next(iter([ nutrient['value'] for nutrient in fruit['foodNutrients'] if nutrient['nutrientName'][0:5] == 'Sugar' ]), None) } for fruit in fruits]\n",
    "               \n",
    "    insert = table.insert().values(values)\n",
    "    engine.execute(insert)"
   ]
  },
  {
   "cell_type": "code",
   "execution_count": null,
   "metadata": {},
   "outputs": [],
   "source": [
    "df = pd....('food', engine)"
   ]
  },
  {
   "cell_type": "code",
   "execution_count": null,
   "metadata": {},
   "outputs": [],
   "source": [
    "engine.dispose()"
   ]
  }
 ],
 "metadata": {
  "kernelspec": {
   "display_name": "Python 3",
   "language": "python",
   "name": "python3"
  },
  "language_info": {
   "codemirror_mode": {
    "name": "ipython",
    "version": 3
   },
   "file_extension": ".py",
   "mimetype": "text/x-python",
   "name": "python",
   "nbconvert_exporter": "python",
   "pygments_lexer": "ipython3",
   "version": "3.6.5"
  }
 },
 "nbformat": 4,
 "nbformat_minor": 4
}
